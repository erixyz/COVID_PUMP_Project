{
  "nbformat": 4,
  "nbformat_minor": 0,
  "metadata": {
    "colab": {
      "name": "COVID and Poverty",
      "provenance": [],
      "collapsed_sections": []
    },
    "kernelspec": {
      "name": "python3",
      "display_name": "Python 3"
    }
  },
  "cells": [
    {
      "cell_type": "code",
      "metadata": {
        "id": "itDw1Zq1ahn_"
      },
      "source": [
        "import pandas as pd\n",
        "import numpy as np\n",
        "import matplotlib.pyplot as plt\n",
        "import random\n",
        "import decimal\n",
        "from scipy.stats import trim_mean as tm\n",
        "import statistics as stats"
      ],
      "execution_count": null,
      "outputs": []
    },
    {
      "cell_type": "code",
      "metadata": {
        "colab": {
          "resources": {
            "http://localhost:8080/nbextensions/google.colab/files.js": {
              "data": "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",
              "ok": true,
              "headers": [
                [
                  "content-type",
                  "application/javascript"
                ]
              ],
              "status": 200,
              "status_text": ""
            }
          },
          "base_uri": "https://localhost:8080/",
          "height": 89
        },
        "id": "OHVp5kfua2yC",
        "outputId": "a4b87df0-dd50-4d3a-a188-31bb2a9d6828"
      },
      "source": [
        "from google.colab import files\n",
        "files.upload()"
      ],
      "execution_count": null,
      "outputs": [
        {
          "output_type": "display_data",
          "data": {
            "text/html": [
              "\n",
              "     <input type=\"file\" id=\"files-44de0f67-13b3-4f87-aac3-2e785c94cfcf\" name=\"files[]\" multiple disabled\n",
              "        style=\"border:none\" />\n",
              "     <output id=\"result-44de0f67-13b3-4f87-aac3-2e785c94cfcf\">\n",
              "      Upload widget is only available when the cell has been executed in the\n",
              "      current browser session. Please rerun this cell to enable.\n",
              "      </output>\n",
              "      <script src=\"/nbextensions/google.colab/files.js\"></script> "
            ],
            "text/plain": [
              "<IPython.core.display.HTML object>"
            ]
          },
          "metadata": {
            "tags": []
          }
        },
        {
          "output_type": "stream",
          "text": [
            "Saving kaggle.json to kaggle.json\n"
          ],
          "name": "stdout"
        },
        {
          "output_type": "execute_result",
          "data": {
            "text/plain": [
              "{'kaggle.json': b'{\"username\":\"erixyz\",\"key\":\"192e825403d461fd6dd4aab6be96f111\"}'}"
            ]
          },
          "metadata": {
            "tags": []
          },
          "execution_count": 2
        }
      ]
    },
    {
      "cell_type": "code",
      "metadata": {
        "colab": {
          "base_uri": "https://localhost:8080/"
        },
        "id": "z-T-ALETc4q4",
        "outputId": "45f4c419-df03-4283-9e4f-f5ec0e2f9dd8"
      },
      "source": [
        "#important stuff. always add\n",
        "!mkdir -p ~/.kaggle\n",
        "!cp kaggle.json ~/.kaggle/\n",
        "!chmod 600 ~/.kaggle/kaggle.json\n",
        "\n",
        "#download the dataset\n",
        "!kaggle datasets download -d fireballbyedimyrnmom/us-counties-covid-19-dataset"
      ],
      "execution_count": null,
      "outputs": [
        {
          "output_type": "stream",
          "text": [
            "Downloading us-counties-covid-19-dataset.zip to /content\n",
            "\r  0% 0.00/12.7M [00:00<?, ?B/s]\r 47% 6.00M/12.7M [00:00<00:00, 61.8MB/s]\n",
            "\r100% 12.7M/12.7M [00:00<00:00, 80.8MB/s]\n"
          ],
          "name": "stdout"
        }
      ]
    },
    {
      "cell_type": "code",
      "metadata": {
        "colab": {
          "base_uri": "https://localhost:8080/",
          "height": 204
        },
        "id": "3FQnL9lre9Xt",
        "outputId": "33e90d83-5517-4e77-a4c8-f22a6b487549"
      },
      "source": [
        "#import the datset\n",
        "df = pd.read_csv(\"/content/us-counties-covid-19-dataset.zip\")\n",
        "df.tail(5)"
      ],
      "execution_count": null,
      "outputs": [
        {
          "output_type": "execute_result",
          "data": {
            "text/html": [
              "<div>\n",
              "<style scoped>\n",
              "    .dataframe tbody tr th:only-of-type {\n",
              "        vertical-align: middle;\n",
              "    }\n",
              "\n",
              "    .dataframe tbody tr th {\n",
              "        vertical-align: top;\n",
              "    }\n",
              "\n",
              "    .dataframe thead th {\n",
              "        text-align: right;\n",
              "    }\n",
              "</style>\n",
              "<table border=\"1\" class=\"dataframe\">\n",
              "  <thead>\n",
              "    <tr style=\"text-align: right;\">\n",
              "      <th></th>\n",
              "      <th>date</th>\n",
              "      <th>county</th>\n",
              "      <th>state</th>\n",
              "      <th>fips</th>\n",
              "      <th>cases</th>\n",
              "      <th>deaths</th>\n",
              "    </tr>\n",
              "  </thead>\n",
              "  <tbody>\n",
              "    <tr>\n",
              "      <th>1219079</th>\n",
              "      <td>2021-04-13</td>\n",
              "      <td>Sweetwater</td>\n",
              "      <td>Wyoming</td>\n",
              "      <td>56037.0</td>\n",
              "      <td>4107</td>\n",
              "      <td>37.0</td>\n",
              "    </tr>\n",
              "    <tr>\n",
              "      <th>1219080</th>\n",
              "      <td>2021-04-13</td>\n",
              "      <td>Teton</td>\n",
              "      <td>Wyoming</td>\n",
              "      <td>56039.0</td>\n",
              "      <td>3675</td>\n",
              "      <td>9.0</td>\n",
              "    </tr>\n",
              "    <tr>\n",
              "      <th>1219081</th>\n",
              "      <td>2021-04-13</td>\n",
              "      <td>Uinta</td>\n",
              "      <td>Wyoming</td>\n",
              "      <td>56041.0</td>\n",
              "      <td>2153</td>\n",
              "      <td>12.0</td>\n",
              "    </tr>\n",
              "    <tr>\n",
              "      <th>1219082</th>\n",
              "      <td>2021-04-13</td>\n",
              "      <td>Washakie</td>\n",
              "      <td>Wyoming</td>\n",
              "      <td>56043.0</td>\n",
              "      <td>897</td>\n",
              "      <td>26.0</td>\n",
              "    </tr>\n",
              "    <tr>\n",
              "      <th>1219083</th>\n",
              "      <td>2021-04-13</td>\n",
              "      <td>Weston</td>\n",
              "      <td>Wyoming</td>\n",
              "      <td>56045.0</td>\n",
              "      <td>642</td>\n",
              "      <td>5.0</td>\n",
              "    </tr>\n",
              "  </tbody>\n",
              "</table>\n",
              "</div>"
            ],
            "text/plain": [
              "               date      county    state     fips  cases  deaths\n",
              "1219079  2021-04-13  Sweetwater  Wyoming  56037.0   4107    37.0\n",
              "1219080  2021-04-13       Teton  Wyoming  56039.0   3675     9.0\n",
              "1219081  2021-04-13       Uinta  Wyoming  56041.0   2153    12.0\n",
              "1219082  2021-04-13    Washakie  Wyoming  56043.0    897    26.0\n",
              "1219083  2021-04-13      Weston  Wyoming  56045.0    642     5.0"
            ]
          },
          "metadata": {
            "tags": []
          },
          "execution_count": 4
        }
      ]
    },
    {
      "cell_type": "code",
      "metadata": {
        "colab": {
          "base_uri": "https://localhost:8080/",
          "height": 421
        },
        "id": "yJWewuCbqfGn",
        "outputId": "aa601666-992a-471d-b661-60752d0cfdb2"
      },
      "source": [
        "df[df['county'] == 'Los Angeles'][44:56]"
      ],
      "execution_count": null,
      "outputs": [
        {
          "output_type": "execute_result",
          "data": {
            "text/html": [
              "<div>\n",
              "<style scoped>\n",
              "    .dataframe tbody tr th:only-of-type {\n",
              "        vertical-align: middle;\n",
              "    }\n",
              "\n",
              "    .dataframe tbody tr th {\n",
              "        vertical-align: top;\n",
              "    }\n",
              "\n",
              "    .dataframe thead th {\n",
              "        text-align: right;\n",
              "    }\n",
              "</style>\n",
              "<table border=\"1\" class=\"dataframe\">\n",
              "  <thead>\n",
              "    <tr style=\"text-align: right;\">\n",
              "      <th></th>\n",
              "      <th>date</th>\n",
              "      <th>county</th>\n",
              "      <th>state</th>\n",
              "      <th>fips</th>\n",
              "      <th>cases</th>\n",
              "      <th>deaths</th>\n",
              "    </tr>\n",
              "  </thead>\n",
              "  <tbody>\n",
              "    <tr>\n",
              "      <th>1002</th>\n",
              "      <td>2020-03-10</td>\n",
              "      <td>Los Angeles</td>\n",
              "      <td>California</td>\n",
              "      <td>6037.0</td>\n",
              "      <td>20</td>\n",
              "      <td>0.0</td>\n",
              "    </tr>\n",
              "    <tr>\n",
              "      <th>1168</th>\n",
              "      <td>2020-03-11</td>\n",
              "      <td>Los Angeles</td>\n",
              "      <td>California</td>\n",
              "      <td>6037.0</td>\n",
              "      <td>28</td>\n",
              "      <td>1.0</td>\n",
              "    </tr>\n",
              "    <tr>\n",
              "      <th>1374</th>\n",
              "      <td>2020-03-12</td>\n",
              "      <td>Los Angeles</td>\n",
              "      <td>California</td>\n",
              "      <td>6037.0</td>\n",
              "      <td>32</td>\n",
              "      <td>1.0</td>\n",
              "    </tr>\n",
              "    <tr>\n",
              "      <th>1634</th>\n",
              "      <td>2020-03-13</td>\n",
              "      <td>Los Angeles</td>\n",
              "      <td>California</td>\n",
              "      <td>6037.0</td>\n",
              "      <td>40</td>\n",
              "      <td>1.0</td>\n",
              "    </tr>\n",
              "    <tr>\n",
              "      <th>1951</th>\n",
              "      <td>2020-03-14</td>\n",
              "      <td>Los Angeles</td>\n",
              "      <td>California</td>\n",
              "      <td>6037.0</td>\n",
              "      <td>53</td>\n",
              "      <td>1.0</td>\n",
              "    </tr>\n",
              "    <tr>\n",
              "      <th>2330</th>\n",
              "      <td>2020-03-15</td>\n",
              "      <td>Los Angeles</td>\n",
              "      <td>California</td>\n",
              "      <td>6037.0</td>\n",
              "      <td>69</td>\n",
              "      <td>1.0</td>\n",
              "    </tr>\n",
              "    <tr>\n",
              "      <th>2764</th>\n",
              "      <td>2020-03-16</td>\n",
              "      <td>Los Angeles</td>\n",
              "      <td>California</td>\n",
              "      <td>6037.0</td>\n",
              "      <td>94</td>\n",
              "      <td>1.0</td>\n",
              "    </tr>\n",
              "    <tr>\n",
              "      <th>3245</th>\n",
              "      <td>2020-03-17</td>\n",
              "      <td>Los Angeles</td>\n",
              "      <td>California</td>\n",
              "      <td>6037.0</td>\n",
              "      <td>144</td>\n",
              "      <td>1.0</td>\n",
              "    </tr>\n",
              "    <tr>\n",
              "      <th>3798</th>\n",
              "      <td>2020-03-18</td>\n",
              "      <td>Los Angeles</td>\n",
              "      <td>California</td>\n",
              "      <td>6037.0</td>\n",
              "      <td>190</td>\n",
              "      <td>1.0</td>\n",
              "    </tr>\n",
              "    <tr>\n",
              "      <th>4458</th>\n",
              "      <td>2020-03-19</td>\n",
              "      <td>Los Angeles</td>\n",
              "      <td>California</td>\n",
              "      <td>6037.0</td>\n",
              "      <td>231</td>\n",
              "      <td>2.0</td>\n",
              "    </tr>\n",
              "    <tr>\n",
              "      <th>5233</th>\n",
              "      <td>2020-03-20</td>\n",
              "      <td>Los Angeles</td>\n",
              "      <td>California</td>\n",
              "      <td>6037.0</td>\n",
              "      <td>292</td>\n",
              "      <td>2.0</td>\n",
              "    </tr>\n",
              "    <tr>\n",
              "      <th>6154</th>\n",
              "      <td>2020-03-21</td>\n",
              "      <td>Los Angeles</td>\n",
              "      <td>California</td>\n",
              "      <td>6037.0</td>\n",
              "      <td>351</td>\n",
              "      <td>4.0</td>\n",
              "    </tr>\n",
              "  </tbody>\n",
              "</table>\n",
              "</div>"
            ],
            "text/plain": [
              "            date       county       state    fips  cases  deaths\n",
              "1002  2020-03-10  Los Angeles  California  6037.0     20     0.0\n",
              "1168  2020-03-11  Los Angeles  California  6037.0     28     1.0\n",
              "1374  2020-03-12  Los Angeles  California  6037.0     32     1.0\n",
              "1634  2020-03-13  Los Angeles  California  6037.0     40     1.0\n",
              "1951  2020-03-14  Los Angeles  California  6037.0     53     1.0\n",
              "2330  2020-03-15  Los Angeles  California  6037.0     69     1.0\n",
              "2764  2020-03-16  Los Angeles  California  6037.0     94     1.0\n",
              "3245  2020-03-17  Los Angeles  California  6037.0    144     1.0\n",
              "3798  2020-03-18  Los Angeles  California  6037.0    190     1.0\n",
              "4458  2020-03-19  Los Angeles  California  6037.0    231     2.0\n",
              "5233  2020-03-20  Los Angeles  California  6037.0    292     2.0\n",
              "6154  2020-03-21  Los Angeles  California  6037.0    351     4.0"
            ]
          },
          "metadata": {
            "tags": []
          },
          "execution_count": 6
        }
      ]
    },
    {
      "cell_type": "markdown",
      "metadata": {
        "id": "gEcrIffAvzKj"
      },
      "source": [
        "adjust the date index to datetime64[ns]."
      ]
    },
    {
      "cell_type": "code",
      "metadata": {
        "id": "1efYfkRle-Xn"
      },
      "source": [
        "def countyIso(countyName, stateName):\n",
        "  #function that cleans up desired subsets of dataframe. returns time series of county with cases and corresponding cases and deaths.\n",
        "  county = df[(df['county'] == countyName) & (df['state'] == stateName)]\n",
        "  #county = county.reset_index().drop(columns=[\"index\", \"fips\"])\n",
        "  county = county.reset_index().drop(columns=[\"index\"])\n",
        "  county = county.set_index('date')\n",
        "  county.index = pd.to_datetime(county.index)\n",
        "  return county"
      ],
      "execution_count": null,
      "outputs": []
    },
    {
      "cell_type": "markdown",
      "metadata": {
        "id": "UwQzhTOXVgo8"
      },
      "source": [
        "next goal: input the richest and poorest counties from wikipedia (10 each)\n",
        "\n",
        "richest: https://en.wikipedia.org/wiki/List_of_highest-income_counties_in_the_United_States \\\n",
        "poorest: https://en.wikipedia.org/wiki/List_of_lowest-income_counties_in_the_United_States \\\n",
        "highest pop. cities with the most homeless: https://www.statista.com/statistics/205648/percentage-of-poor-families-in-the-top-20-most-populated-cities-in-the-us/ \\\n",
        "counties ranked by per capita income: https://en.wikipedia.org/wiki/List_of_United_States_counties_by_per_capita_income \\"
      ]
    },
    {
      "cell_type": "code",
      "metadata": {
        "id": "bmWnQ8hsFEKG"
      },
      "source": [
        "def diseaseDays(county):\n",
        "  #this creates a datetime array using the counties index\n",
        "  startDate = county.index[0]\n",
        "  size = len(county)\n",
        "  days = pd.date_range(startDate, periods = size)\n",
        "  return days"
      ],
      "execution_count": null,
      "outputs": []
    },
    {
      "cell_type": "code",
      "metadata": {
        "id": "r3bwDggEqaAn"
      },
      "source": [
        "def doublingtimefunc(county, startdate, enddate, doubtype):\n",
        "  #A simple function to calculate the amount of time it takes for values in dataframe to double.\n",
        "  days= pd.date_range(startdate,enddate)\n",
        "  icases = county.loc[startdate, doubtype]\n",
        "  daycounter = -1\n",
        "\n",
        "  for i,d in enumerate(days):\n",
        "    if county.loc[d, doubtype] < 2*icases:\n",
        "      daycounter += 1\n",
        "      if d == enddate:\n",
        "          daycounter = 0\n",
        "          break;\n",
        "    else:\n",
        "      daycounter +=1\n",
        "      break;\n",
        "  \n",
        "  return daycounter"
      ],
      "execution_count": null,
      "outputs": []
    },
    {
      "cell_type": "code",
      "metadata": {
        "id": "9JtHCGs9rdyO"
      },
      "source": [
        "def expGrowth(dtime):\n",
        "  #take in doubling time and returns exponential growth rate.\n",
        "  return np.log(2)/dtime\n",
        "\n",
        "def expGrowthRate(county, doubtype):\n",
        "  #calculates the exponential rate of growth for a COUNTY and returns an array\n",
        "  doubtime = []\n",
        "  setofdays = diseaseDays(county)\n",
        "  for time in setofdays:\n",
        "    doubtime.append(doublingtimefunc(county, time, setofdays[-1], doubtype))\n",
        "\n",
        "  return np.array(expGrowth(doubtime))\n",
        "\n",
        "\n",
        "def expGrowthRatePlot(r, county):\n",
        "  #plots the exponential rate of growth for a county.\n",
        "  setofdays = diseaseDays(county)\n",
        "  plt.plot(setofdays, r)\n"
      ],
      "execution_count": null,
      "outputs": []
    },
    {
      "cell_type": "code",
      "metadata": {
        "colab": {
          "base_uri": "https://localhost:8080/",
          "height": 391
        },
        "id": "O9C3hnvpr4sh",
        "outputId": "5c4f20aa-67c8-4bb2-bc47-c6dd47858660"
      },
      "source": [
        "usa = df.groupby('date').sum().drop(columns = 'fips')\n",
        "usa_cases, usa_dates = usa.cases, pd.to_datetime(usa.index)\n",
        "plt.figure(figsize = (8,6))\n",
        "plt.plot(usa_dates, usa_cases.diff().rolling(window=7).mean())"
      ],
      "execution_count": null,
      "outputs": [
        {
          "output_type": "execute_result",
          "data": {
            "text/plain": [
              "[<matplotlib.lines.Line2D at 0x7fb88c670b90>]"
            ]
          },
          "metadata": {
            "tags": []
          },
          "execution_count": 10
        },
        {
          "output_type": "display_data",
          "data": {
            "image/png": "[encoded data removed]",
            "text/plain": [
              "<Figure size 576x432 with 1 Axes>"
            ]
          },
          "metadata": {
            "tags": [],
            "needs_background": "light"
          }
        }
      ]
    },
    {
      "cell_type": "markdown",
      "metadata": {
        "id": "8HLFfxdIpBA9"
      },
      "source": [
        "Notice that the pandemic begins to really lose steam once summer is in motion. In this case, I should edit the dataframes in question to stop at the beginning of summer. Saturday June 20th."
      ]
    },
    {
      "cell_type": "code",
      "metadata": {
        "id": "-FLEaAHgEJvv"
      },
      "source": [
        "def sampling(data):\n",
        "  def selection(data):\n",
        "    #this part randomly selects from the dataframe\n",
        "    val = random.randrange(start = 0, stop = len(data), step = 1)\n",
        "    countyname, statename = data.iloc[val].county, data.iloc[val].state\n",
        "    county_df = countyIso(countyname, statename)\n",
        "    return county_df\n",
        "  \n",
        "  #this part ensures the dataframe is not empty\n",
        "  selectionOut = selection(data)\n",
        "  while len(selectionOut) == 0:\n",
        "    selectionOut = selection(data)\n",
        "  return selectionOut\n",
        "\n",
        "def countyStringClean(data):\n",
        "  #this gets rid of unnecessary strings in the data set including \" City\" or \" County\"\n",
        "  strings = data.county.tolist()\n",
        "  badwords = [' City', ' County', ' Census Area']\n",
        "\n",
        "  correct = []\n",
        "  idx = []\n",
        "\n",
        "  for bad in badwords:\n",
        "    for index, name in enumerate(strings):\n",
        "      if bad in name:\n",
        "        correct.append(name.replace(bad, ''))\n",
        "        idx.append(index)\n",
        "\n",
        "  for idx_idx, idx_val in enumerate(idx):\n",
        "    strings[idx_val] = correct[idx_idx]\n",
        "  \n",
        "  data.county = strings\n",
        "  return data"
      ],
      "execution_count": null,
      "outputs": []
    },
    {
      "cell_type": "code",
      "metadata": {
        "id": "wpWEGinCafBg"
      },
      "source": [
        "#import and clean datasets required for sampling\n",
        "#note: there is a unicode error when utilizing original dataset. removed all islands/territories.\n",
        "plus90 = countyStringClean(pd.read_csv('/content/90plus.csv'))\n",
        "plus80 = countyStringClean(pd.read_csv('/content/80plus.csv'))\n",
        "plus70 = countyStringClean(pd.read_csv('/content/70plus.csv'))\n",
        "plus60 = countyStringClean(pd.read_csv('/content/60plus.csv'))\n",
        "plus50 = countyStringClean(pd.read_csv('/content/50plus.csv'))\n",
        "plus40 = countyStringClean(pd.read_csv('/content/40plus.csv'))\n",
        "plus30 = countyStringClean(pd.read_csv('/content/30plus.csv'))\n",
        "plus20 = countyStringClean(pd.read_csv('/content/20plus.csv'))\n",
        "plus10 = countyStringClean(pd.read_csv('/content/10plus.csv'))\n",
        "plus0 = countyStringClean(pd.read_csv('/content/0plus.csv'))"
      ],
      "execution_count": null,
      "outputs": []
    },
    {
      "cell_type": "code",
      "metadata": {
        "id": "Hkx6DI6GdF16"
      },
      "source": [
        "#run the code 10 times to generate random counties. if a county repeats, rerun the code.\n",
        "#ampling(plus90)\n",
        "#sampling(plus80)\n",
        "#sampling(plus70)\n",
        "#sampling(plus60)"
      ],
      "execution_count": null,
      "outputs": []
    },
    {
      "cell_type": "markdown",
      "metadata": {
        "id": "jUf52ZOpLfzF"
      },
      "source": [
        "randomly selected counties:\\\n",
        "90-100 percentile: \n",
        "*   Miner, South Dakota\n",
        "*   Middlesex, Virginia\n",
        "*   Washington, Rhode Island\n",
        "*   Kent, Maryland\n",
        "*   Camden, New Jersey\n",
        "*   Douglas, Colorado\n",
        "*   Snohomish, Washington\n",
        "*   Fairfax, Virginia\n",
        "*   Fairfield, Connecticut\n",
        "*   Ozaukee, Wisconsin\n",
        "*   Ulster, New York\n",
        "*   San Mateo, California\n",
        "\n",
        "80-90 percentile:\n",
        "*   Carteret, North Carolina\n",
        "*   Emmet, Iowa\n",
        "*   Chisago, Minnesota\n",
        "*   Johnson, Wyoming\n",
        "*   McHenry, North Dakota\n",
        "*   Bedford, Virginia\n",
        "*   Northampton, Pennsylvania\n",
        "*   Greene, Ohio\n",
        "*   Kanawha, West Virginia\n",
        "*   Sarpy, Nebraska\n",
        "*   Warrick, Indiana\n",
        "*   East Baton Rouge, Louisiana\n",
        "\n",
        "70-80 percentile:\n",
        "*   Franklin, Nebraska\n",
        "*   Dawson, Montana\n",
        "*   Polk, Minnesota\n",
        "*   Skagit, Washington\n",
        "*   Lackawanna, Pennsylvania\n",
        "*   York, South Carolina\n",
        "*   Fremont, Iowa\n",
        "*   Chelan, Washington\n",
        "*   Hardin, Texas\n",
        "*   Lorain, Ohio\n",
        "*   Stearns, Minnesota\n",
        "*   Grand Forks, North Dakota\n",
        "\n",
        "60- 70 percentile:\n",
        "*   Hood River, Oregon\n",
        "*   Kane, Utah\n",
        "*   Mower, Minnesota\n",
        "*   Kootenai, Idaho\n",
        "*   Winnebago, Iowa\n",
        "*   Dodge, Wisonsin\n",
        "*   Kimball, Nebraska\n",
        "*   Stark, Ohio\n",
        "*   White, Illinois\n",
        "*   Asotin, Washington\n",
        "*   Cooke, Texas\n",
        "*   Churchill, Nevada\n",
        "\n",
        "\n"
      ]
    },
    {
      "cell_type": "code",
      "metadata": {
        "id": "F1AnNm5qSwLo"
      },
      "source": [
        "#sampling(plus50)\n",
        "#sampling(plus40)\n",
        "#sampling(plus30)"
      ],
      "execution_count": null,
      "outputs": []
    },
    {
      "cell_type": "markdown",
      "metadata": {
        "id": "MStK1ob3Sh5d"
      },
      "source": [
        "50-60 percentile:\n",
        "*   Jackson, Oklahoma\n",
        "*   Pamlico, North Carolina\n",
        "*   Weber, Utah\n",
        "*   Humboldt, California\n",
        "*   Washita, Oklahoma\n",
        "*   Escambia, Florida\n",
        "*   Brookings, South Dakota\n",
        "*   Pickaway, Ohio\n",
        "*   Lee, Alabama\n",
        "*   Jefferson, Texas\n",
        "*   Bosque, Texas\n",
        "*   Page, Iowa\n",
        "\n",
        "40-50 percentile:\n",
        "*   Allen, Ohio\n",
        "*   Henry, Tennessee\n",
        "*   Franklin, Tennessee\n",
        "*   Cumberland, New Jersey\n",
        "*   Buchanan, Missouri\n",
        "*   Noble, Indiana\n",
        "*   Coles, Illinois\n",
        "*   Morrow, Ohio\n",
        "*   Pontotoc, Oklahoma\n",
        "*   Trumbull, Ohio\n",
        "*   Union, Pennsylvania\n",
        "*   Lyon, Nevada\n",
        "\n",
        "30-40 percentile:\n",
        "*   Hernando, Florida\n",
        "*   Graves, Kentucky\n",
        "*   Jefferson, Indiana\n",
        "*   Fayette, Pennsylvania\n",
        "*   Avery, North Carolina\n",
        "*   Finney, Kansas\n",
        "*   Delaware, Oklahoma\n",
        "*   Jefferson, Tennessee\n",
        "*   Ashe, North Carolina\n",
        "*   Allen, Kansas\n",
        "*   San Bernardino, California\n",
        "*   Tangipahoa, Louisiana\n"
      ]
    },
    {
      "cell_type": "code",
      "metadata": {
        "id": "oEe6m1CuRKIw"
      },
      "source": [
        "#sampling(plus20)\n",
        "#sampling(plus10)\n",
        "#sampling(plus0)"
      ],
      "execution_count": null,
      "outputs": []
    },
    {
      "cell_type": "markdown",
      "metadata": {
        "id": "qA4kxmUuV_Q5"
      },
      "source": [
        "20-30 percentile:\n",
        "*   Russell, Alabama\n",
        "*   Polk, Tennessee\n",
        "*   Acadia, Louisiana\n",
        "*   Cherokee, Kansas\n",
        "*   Branch, Michigan\n",
        "*   Franklin, Illinois\n",
        "*   Gonzales, Texas\n",
        "*   Hardin, Ohio\n",
        "*   Johnson, Kentucky\n",
        "*   Simpson, Kentucky\n",
        "*   St. Landry, Louisiana\t\n",
        "*   Floyd, Georgia\n",
        "\n",
        "10-20 percentile:\n",
        "*   Franklin, Alabama\n",
        "*   Yuma, Arizona\n",
        "*   Gulf, Florida\n",
        "*   Wilkes, North Carolina\n",
        "*   Fremont, Colorado\n",
        "*   Carter, Tennessee\n",
        "*   Lamb, Texas\n",
        "*   Seward, Kansas\n",
        "*   Taylor, Kentucky\n",
        "*   Caldwell, North Carolina\n",
        "*   Yalobusha,\tMississippi\n",
        "*   Columbus, North Carolina\n",
        "\n",
        "0-10 percentile:\n",
        "*   Liberty, Florida\n",
        "*   Wheeler, Georgia\n",
        "*   Amite, Mississippi\n",
        "*   Hendry, Florida\n",
        "*   Athens, Ohio\n",
        "*   Washington, Florida\n",
        "*   Johnson, Georgia\n",
        "*   Lee, Kentucky\n",
        "*   Hamilton, Florida\n",
        "*   Holmes Mississippi\n",
        "*   Lake, Michigan\n",
        "*   Campbell, Tennessee\n",
        "\n",
        "\n",
        "\n",
        "\n",
        "\n",
        "\n"
      ]
    },
    {
      "cell_type": "code",
      "metadata": {
        "id": "sksKXJ5wWnrW"
      },
      "source": [
        "#90-100 percentile:\n",
        "county90_0,county90_1,county90_2,county90_3 = countyIso('Miner', 'South Dakota'), countyIso('Middlesex', 'Virginia'), countyIso('Washington', 'Rhode Island'), countyIso('Kent', 'Maryland')\n",
        "county90_4,county90_5,county90_6,county90_7 = countyIso('Camden', 'New Jersey'), countyIso('Douglas', 'Colorado'), countyIso('Snohomish', 'Washington'), countyIso('Fairfax', 'Virginia')\n",
        "county90_8,county90_9,county90_10,county90_11 = countyIso('Fairfield', 'Connecticut'), countyIso('Ozaukee', 'Wisconsin'), countyIso('Ulster', 'New York'), countyIso('San Mateo', 'California')\n",
        "\n",
        "county90s = [county90_0,county90_1,county90_2,county90_3,county90_4,county90_5,county90_6,county90_7,county90_8,county90_9,county90_10,county90_11]"
      ],
      "execution_count": null,
      "outputs": []
    },
    {
      "cell_type": "code",
      "metadata": {
        "id": "Rl9HZBd2lIkk"
      },
      "source": [
        "#80-90 percentile:\n",
        "county80_0,county80_1,county80_2,county80_3 = countyIso('Carteret', 'North Carolina'), countyIso('Emmet', 'Iowa'), countyIso('Chisago', 'Minnesota'), countyIso('Johnson', 'Wyoming')\n",
        "county80_4,county80_5,county80_6,county80_7 = countyIso('McHenry', 'North Dakota'), countyIso('Bedford', 'Virginia'), countyIso('Northampton', 'Pennsylvania'), countyIso('Greene', 'Ohio')\n",
        "county80_8,county80_9,county80_10,county80_11 = countyIso('Kanawha', 'West Virginia'), countyIso('Sarpy', 'Nebraska'), countyIso('Warrick', 'Indiana'), countyIso('East Baton Rouge', 'Louisiana')\n",
        "\n",
        "county80s = [county80_0,county80_1,county80_2,county80_3,county80_4,county80_5,county80_6,county80_7,county80_8,county80_9,county80_10,county80_11]"
      ],
      "execution_count": null,
      "outputs": []
    },
    {
      "cell_type": "code",
      "metadata": {
        "id": "_ZTFbs5_oQqb"
      },
      "source": [
        "#70-80 percentile:\n",
        "county70s = [countyIso('Franklin', 'Nebraska'), countyIso('Dawson', 'Montana'), countyIso('Polk', 'Minnesota'), countyIso('Skagit', 'Washington'),\n",
        "             countyIso('Lackawanna', 'Pennsylvania'), countyIso('York', 'South Carolina'), countyIso('Fremont', 'Iowa'),\n",
        "             countyIso('Chelan', 'Washington'), countyIso('Hardin', 'Texas'), countyIso('Lorain', 'Ohio'),\n",
        "             countyIso('Stearns', 'Minnesota'), countyIso('Grand Forks', 'North Dakota')]"
      ],
      "execution_count": null,
      "outputs": []
    },
    {
      "cell_type": "code",
      "metadata": {
        "id": "aiUgyOcy1CDH"
      },
      "source": [
        "#60-70 percentile:\n",
        "county60s = [countyIso('Hood River', 'Oregon'), countyIso('Kane', 'Utah'), countyIso('Mower', 'Minnesota'), countyIso('Kootenai', 'Idaho'),\n",
        "             countyIso('Winnebago', 'Iowa'), countyIso('Dodge', 'Wisconsin'), countyIso('Kimball', 'Nebraska'),\n",
        "             countyIso('Stark', 'Ohio'), countyIso('White', 'Illinois'), countyIso('Asotin', 'Washington'),\n",
        "             countyIso('Cooke', 'Texas'), countyIso('Churchill', 'Nevada')]"
      ],
      "execution_count": null,
      "outputs": []
    },
    {
      "cell_type": "code",
      "metadata": {
        "id": "EhW3x4615q6_"
      },
      "source": [
        "#50-60 percentile:\n",
        "county50s = [countyIso('Jackson', 'Oklahoma'), countyIso('Pamlico', 'North Carolina'), countyIso('Weber', 'Utah'), countyIso('Humboldt', 'California'),\n",
        "             countyIso('Washita', 'Oklahoma'), countyIso('Escambia', 'Florida'), countyIso('Brookings', 'South Dakota'),\n",
        "             countyIso('Pickaway', 'Ohio'), countyIso('Lee', 'Alabama'), countyIso('Jefferson', 'Texas'),\n",
        "             countyIso('Bosque', 'Texas'), countyIso('Page', 'Iowa')]"
      ],
      "execution_count": null,
      "outputs": []
    },
    {
      "cell_type": "code",
      "metadata": {
        "id": "dkcvaNcS7F8F"
      },
      "source": [
        "#40-50 percentile:\n",
        "county40s = [countyIso('Allen', 'Ohio'), countyIso('Henry', 'Tennessee'), countyIso('Franklin', 'Tennessee'), countyIso('Cumberland', 'New Jersey'),\n",
        "             countyIso('Buchanan', 'Missouri'), countyIso('Noble', 'Indiana'), countyIso('Coles', 'Illinois'),\n",
        "             countyIso('Morrow', 'Ohio'), countyIso('Pontotoc', 'Oklahoma'), countyIso('Trumbull', 'Ohio'),\n",
        "             countyIso('Union', 'Pennsylvania'), countyIso('Lyon', 'Nevada')]"
      ],
      "execution_count": null,
      "outputs": []
    },
    {
      "cell_type": "code",
      "metadata": {
        "id": "BFx_D5uy8DMh"
      },
      "source": [
        "#30-40 percentile:\n",
        "county30s = [countyIso('Hernando', 'Florida'), countyIso('Graves', 'Kentucky'), countyIso('Jefferson', 'Indiana'), countyIso('Fayette', 'Pennsylvania'),\n",
        "             countyIso('Avery', 'North Carolina'), countyIso('Finney', 'Kansas'), countyIso('Delaware', 'Oklahoma'),\n",
        "             countyIso('Jefferson', 'Tennessee'), countyIso('Ashe', 'North Carolina'), countyIso('Allen', 'Kansas'),\n",
        "             countyIso('San Bernardino', 'California'), countyIso('Tangipahoa', 'Louisiana')]"
      ],
      "execution_count": null,
      "outputs": []
    },
    {
      "cell_type": "code",
      "metadata": {
        "id": "jUUa20Bl9l8V"
      },
      "source": [
        "#20-30 percentile:\n",
        "county20s = [countyIso('Russell', 'Alabama'), countyIso('Polk', 'Tennessee'), countyIso('Acadia', 'Louisiana'), countyIso('Cherokee', 'Kansas'),\n",
        "             countyIso('Branch', 'Michigan'), countyIso('Franklin', 'Illinois'), countyIso('Gonzales', 'Texas'),\n",
        "             countyIso('Hardin', 'Ohio'), countyIso('Johnson', 'Kentucky'), countyIso('Simpson', 'Kentucky'),\n",
        "             countyIso('St. Landry', 'Louisiana'), countyIso('Floyd', 'Georgia')]"
      ],
      "execution_count": null,
      "outputs": []
    },
    {
      "cell_type": "code",
      "metadata": {
        "id": "rCU7Q_HP-2xV"
      },
      "source": [
        "#10-20 percentile:\n",
        "county10s = [countyIso('Franklin', 'Alabama'), countyIso('Yuma', 'Arizona'), countyIso('Gulf', 'Florida'), countyIso('Wilkes', 'North Carolina'),\n",
        "             countyIso('Fremont', 'Colorado'), countyIso('Carter', 'Tennessee'), countyIso('Lamb', 'Texas'),\n",
        "             countyIso('Seward', 'Kansas'), countyIso('Taylor', 'Kentucky'), countyIso('Caldwell', 'North Carolina'),\n",
        "             countyIso('Yalobusha', 'Mississippi'), countyIso('Columbus', 'North Carolina')]"
      ],
      "execution_count": null,
      "outputs": []
    },
    {
      "cell_type": "code",
      "metadata": {
        "id": "VHugD68o-2RN"
      },
      "source": [
        "#0-10 percentile:\n",
        "county0s = [countyIso('Liberty', 'Florida'), countyIso('Wheeler', 'Georgia'), countyIso('Amite', 'Mississippi'), countyIso('Hendry', 'Florida'),\n",
        "             countyIso('Athens', 'Ohio'), countyIso('Washington', 'Florida'), countyIso('Johnson', 'Georgia'),\n",
        "             countyIso('Lee', 'Kentucky'), countyIso('Hamilton', 'Florida'), countyIso('Holmes', 'Mississippi'),\n",
        "             countyIso('Lake', 'Michigan'), countyIso('Campbell', 'Tennessee')]"
      ],
      "execution_count": null,
      "outputs": []
    },
    {
      "cell_type": "code",
      "metadata": {
        "id": "vXkOzhv7BNWk"
      },
      "source": [
        "#initialize lists for rates\n",
        "r90, r80, r70, r60, r50, r40, r30, r20, r10, r0 = [], [], [], [], [], [], [], [], [], []"
      ],
      "execution_count": null,
      "outputs": []
    },
    {
      "cell_type": "code",
      "metadata": {
        "id": "k-fOHy8XBpWN"
      },
      "source": [
        "def forLoopforExpGrowth(countyArray):\n",
        "  #calculates the r for each county in the array\n",
        "  throwaway = []\n",
        "  for i in countyArray:\n",
        "    throwaway.append(expGrowthRate(i,'cases')[:77])\n",
        "  return throwaway"
      ],
      "execution_count": null,
      "outputs": []
    },
    {
      "cell_type": "code",
      "metadata": {
        "colab": {
          "base_uri": "https://localhost:8080/"
        },
        "id": "Om58wmN-CY6T",
        "outputId": "8ae4a0a7-7721-4cfa-8348-4c79f4778bce"
      },
      "source": [
        "#apply function to calculate r for each county in each array\n",
        "r90 = forLoopforExpGrowth(county90s)\n",
        "r80 = forLoopforExpGrowth(county80s)\n",
        "r70 = forLoopforExpGrowth(county70s)\n",
        "r60 = forLoopforExpGrowth(county60s)\n",
        "r50 = forLoopforExpGrowth(county50s)\n",
        "r40 = forLoopforExpGrowth(county40s)\n",
        "r30 = forLoopforExpGrowth(county30s)\n",
        "r20 = forLoopforExpGrowth(county20s)\n",
        "r10 = forLoopforExpGrowth(county10s)\n",
        "r0 = forLoopforExpGrowth(county0s)"
      ],
      "execution_count": null,
      "outputs": [
        {
          "output_type": "stream",
          "text": [
            "/usr/local/lib/python3.7/dist-packages/ipykernel_launcher.py:3: RuntimeWarning: divide by zero encountered in true_divide\n",
            "  This is separate from the ipykernel package so we can avoid doing imports until\n"
          ],
          "name": "stderr"
        }
      ]
    },
    {
      "cell_type": "code",
      "metadata": {
        "id": "q_CZXUPMDyyk"
      },
      "source": [
        "#list comprehension to calculate the trimmed mean of r for each county\n",
        "tm90 = [tm(i,0.025) for i in r90]\n",
        "tm80 = [tm(i,0.025) for i in r80]\n",
        "tm70 = [tm(i,0.025) for i in r70]\n",
        "tm60 = [tm(i,0.025) for i in r60]\n",
        "tm50 = [tm(i,0.025) for i in r50]\n",
        "tm40 = [tm(i,0.025) for i in r40]\n",
        "tm30 = [tm(i,0.025) for i in r30]\n",
        "tm20 = [tm(i,0.025) for i in r20]\n",
        "tm10 = [tm(i,0.025) for i in r10]\n",
        "tm0 = [tm(i,0.025) for i in r0]"
      ],
      "execution_count": null,
      "outputs": []
    },
    {
      "cell_type": "code",
      "metadata": {
        "colab": {
          "base_uri": "https://localhost:8080/",
          "height": 265
        },
        "id": "gCEIP4EFGEBP",
        "outputId": "e8350b2c-7582-4ed6-c93e-a924dac8747a"
      },
      "source": [
        "data1 = [tm0, tm10, tm20, tm30, tm40, tm50, tm60, tm70, tm80, tm90]\n",
        "plt.boxplot(data1);"
      ],
      "execution_count": null,
      "outputs": [
        {
          "output_type": "display_data",
          "data": {
            "image/png": "[encoded data removed]",
            "text/plain": [
              "<Figure size 432x288 with 1 Axes>"
            ]
          },
          "metadata": {
            "tags": [],
            "needs_background": "light"
          }
        }
      ]
    },
    {
      "cell_type": "code",
      "metadata": {
        "id": "Sx2lNjoUH1w4"
      },
      "source": [
        "med90 = [stats.median(i) for i in r90]\n",
        "med80 = [stats.median(i) for i in r80]\n",
        "med70 = [stats.median(i) for i in r70]\n",
        "med60 = [stats.median(i) for i in r60]\n",
        "med50 = [stats.median(i) for i in r50]\n",
        "med40 = [stats.median(i) for i in r40]\n",
        "med30 = [stats.median(i) for i in r30]\n",
        "med20 = [stats.median(i) for i in r20]\n",
        "med10 = [stats.median(i) for i in r10]\n",
        "med0 = [stats.median(i) for i in r0]"
      ],
      "execution_count": null,
      "outputs": []
    },
    {
      "cell_type": "code",
      "metadata": {
        "colab": {
          "base_uri": "https://localhost:8080/",
          "height": 265
        },
        "id": "sGUY1iPAIfV4",
        "outputId": "ecad9fe1-93b4-42de-ed33-88159edcca0a"
      },
      "source": [
        "data2 = [med0,med10,med20,med30,med40,med50,med60,med70,med80,med90]\n",
        "plt.boxplot(data2);"
      ],
      "execution_count": null,
      "outputs": [
        {
          "output_type": "display_data",
          "data": {
            "image/png": "[encoded data removed]",
            "text/plain": [
              "<Figure size 432x288 with 1 Axes>"
            ]
          },
          "metadata": {
            "tags": [],
            "needs_background": "light"
          }
        }
      ]
    },
    {
      "cell_type": "code",
      "metadata": {
        "id": "Z2132sScJVcB"
      },
      "source": [
        "mean90 = [stats.mean(i) for i in r90]\n",
        "mean80 = [stats.mean(i) for i in r80]\n",
        "mean70 = [stats.mean(i) for i in r70]\n",
        "mean60 = [stats.mean(i) for i in r60]\n",
        "mean50 = [stats.mean(i) for i in r50]\n",
        "mean40 = [stats.mean(i) for i in r40]\n",
        "mean30 = [stats.mean(i) for i in r30]\n",
        "mean20 = [stats.mean(i) for i in r20]\n",
        "mean10 = [stats.mean(i) for i in r10]\n",
        "mean0 = [stats.mean(i) for i in r0]"
      ],
      "execution_count": null,
      "outputs": []
    },
    {
      "cell_type": "code",
      "metadata": {
        "colab": {
          "base_uri": "https://localhost:8080/",
          "height": 265
        },
        "id": "gzs0IKKqKPgf",
        "outputId": "c05cfda3-69f4-4a07-af17-8d564307e1fa"
      },
      "source": [
        "data3 = [mean90,mean80,mean70,mean60,mean50,mean40,mean30,mean20,mean10,mean0]\n",
        "plt.boxplot(data3);"
      ],
      "execution_count": null,
      "outputs": [
        {
          "output_type": "display_data",
          "data": {
            "image/png": "[encoded data removed]",
            "text/plain": [
              "<Figure size 432x288 with 1 Axes>"
            ]
          },
          "metadata": {
            "tags": [],
            "needs_background": "light"
          }
        }
      ]
    },
    {
      "cell_type": "markdown",
      "metadata": {
        "id": "FXpx0nGC4V3r"
      },
      "source": [
        "Per capita income does not appear to play a significant role in the initial spread of COVID-19 based on the above boxplots.\n",
        "\n",
        "The next goal is to impute doubling time's (r) into the wikipedia dataset. Regress on this newly constructed dataframe."
      ]
    },
    {
      "cell_type": "code",
      "metadata": {
        "id": "yTdEHMve46RY",
        "colab": {
          "base_uri": "https://localhost:8080/"
        },
        "outputId": "82d52e33-011e-4559-9af8-267d0371da5f"
      },
      "source": [
        "#small scale. will attempt to create a dataframe with only two counties:\n",
        "#Fairfax, Virginia\n",
        "#San Mateo, California\n",
        "\n",
        "fairfax = countyIso('Fairfax', 'Virginia')\n",
        "san_mateo = countyIso('San Mateo', 'California')\n",
        "\n",
        "r_f = tm(expGrowthRate(fairfax, 'cases')[:77], 0.025)\n",
        "r_s = tm(expGrowthRate(san_mateo, 'cases')[:77], 0.025) "
      ],
      "execution_count": null,
      "outputs": [
        {
          "output_type": "stream",
          "text": [
            "/usr/local/lib/python3.7/dist-packages/ipykernel_launcher.py:3: RuntimeWarning: divide by zero encountered in true_divide\n",
            "  This is separate from the ipykernel package so we can avoid doing imports until\n"
          ],
          "name": "stderr"
        }
      ]
    },
    {
      "cell_type": "code",
      "metadata": {
        "id": "ycNTEIwRx-hx"
      },
      "source": [
        "#one method to combine the dataset. i stupidly dropped some essential columns.\n",
        "#as a result of my blunder, i will try to use the wikipedia extension.\n",
        "\n",
        "#import os\n",
        "#import glob\n",
        "#import pandas as pd\n",
        "#os.chdir(\"/content\")\n",
        "\n",
        "#extension = 'csv'\n",
        "#all_filenames = [i for i in glob.glob('*.{}'.format(extension))]\n",
        "\n",
        "#combine all files in the list\n",
        "#combined_csv = pd.concat([pd.read_csv(f) for f in all_filenames ])\n",
        "#export to csv\n",
        "#combined_csv.to_csv( \"combined_csv.csv\", index=False, encoding='utf-8-sig')"
      ],
      "execution_count": null,
      "outputs": []
    },
    {
      "cell_type": "code",
      "metadata": {
        "id": "mhEokTZZz9o0"
      },
      "source": [
        "#webscraping using BeautifulSoup\n",
        "from bs4 import BeautifulSoup\n",
        "import requests\n",
        "\n",
        "wiki_url = 'https://en.wikipedia.org/wiki/List_of_United_States_counties_by_per_capita_income'\n",
        "table_name = 'wikitable sortable' \n",
        "response = requests.get(wiki_url)\n",
        "soup = BeautifulSoup(response.text, 'html.parser')\n",
        "soup_table = soup.find('table', {'class':table_name})\n",
        "wiki_table = pd.read_html(str(soup_table))[0]"
      ],
      "execution_count": null,
      "outputs": []
    },
    {
      "cell_type": "code",
      "metadata": {
        "id": "zU46SaIL36I_"
      },
      "source": [
        "#cleaning process for the entire dataframe\n",
        "\n",
        "#change col names to something easier to handle\n",
        "wiki_table.columns = ['pos', 'county', 'state', 'pc_income', 'medhouse_inc',\n",
        "                      'medfam_inc', 'pop', 'households']\n",
        "\n",
        "#drop unnecessary 'counties'\n",
        "wiki_table = wiki_table[wiki_table[\"state\"].str.contains(\"Puerto Rico\") == False]\n",
        "wiki_table = wiki_table[wiki_table[\"state\"].str.contains(\"American Samoa\") == False]\n",
        "wiki_table = wiki_table[wiki_table[\"state\"].str.contains(\"Guam\") == False]\n",
        "wiki_table = wiki_table[wiki_table[\"state\"].str.contains(\"U.S. Virgin Islands\") == False]\n",
        "wiki_table = wiki_table[wiki_table[\"state\"].str.contains(\"Northern Mariana Islands\") == False]\n",
        "wiki_table = wiki_table.dropna()\n",
        "\n",
        "#change data from object to floats\n",
        "wiki_table['pc_income'] = wiki_table['pc_income'].str.replace(',', '')\n",
        "wiki_table['pc_income'] = wiki_table['pc_income'].str.replace('$', '')\n",
        "wiki_table['pc_income'] = wiki_table['pc_income'].astype(float)\n",
        "\n",
        "wiki_table['medhouse_inc'] = wiki_table['medhouse_inc'].str.replace(',', '')\n",
        "wiki_table['medhouse_inc'] = wiki_table['medhouse_inc'].str.replace('$', '')\n",
        "wiki_table['medhouse_inc'] = wiki_table['medhouse_inc'].astype(float)\n",
        "\n",
        "wiki_table['medfam_inc'] = wiki_table['medfam_inc'].str.replace(',', '')\n",
        "wiki_table['medfam_inc'] = wiki_table['medfam_inc'].str.replace('$', '')\n",
        "wiki_table['medfam_inc'] = wiki_table['medfam_inc'].astype(float)\n",
        "\n",
        "#clean strings in county column to be more in line with what is found in NY Times dataframe\n",
        "wiki_table = countyStringClean(wiki_table)"
      ],
      "execution_count": null,
      "outputs": []
    },
    {
      "cell_type": "code",
      "metadata": {
        "colab": {
          "base_uri": "https://localhost:8080/",
          "height": 159
        },
        "id": "hJF7ps1xCw4k",
        "outputId": "77195474-8ef9-4b53-9a78-f1eb0303882d"
      },
      "source": [
        "#final cleaned dataset pulled from wikipedia:\n",
        "print(wiki_table.shape)\n",
        "wiki_table.head(3)"
      ],
      "execution_count": null,
      "outputs": [
        {
          "output_type": "stream",
          "text": [
            "(3143, 8)\n"
          ],
          "name": "stdout"
        },
        {
          "output_type": "execute_result",
          "data": {
            "text/html": [
              "<div>\n",
              "<style scoped>\n",
              "    .dataframe tbody tr th:only-of-type {\n",
              "        vertical-align: middle;\n",
              "    }\n",
              "\n",
              "    .dataframe tbody tr th {\n",
              "        vertical-align: top;\n",
              "    }\n",
              "\n",
              "    .dataframe thead th {\n",
              "        text-align: right;\n",
              "    }\n",
              "</style>\n",
              "<table border=\"1\" class=\"dataframe\">\n",
              "  <thead>\n",
              "    <tr style=\"text-align: right;\">\n",
              "      <th></th>\n",
              "      <th>pos</th>\n",
              "      <th>county</th>\n",
              "      <th>state</th>\n",
              "      <th>pc_income</th>\n",
              "      <th>medhouse_inc</th>\n",
              "      <th>medfam_inc</th>\n",
              "      <th>pop</th>\n",
              "      <th>households</th>\n",
              "    </tr>\n",
              "  </thead>\n",
              "  <tbody>\n",
              "    <tr>\n",
              "      <th>0</th>\n",
              "      <td>1</td>\n",
              "      <td>New York</td>\n",
              "      <td>New York</td>\n",
              "      <td>62498.0</td>\n",
              "      <td>69659.0</td>\n",
              "      <td>84627.0</td>\n",
              "      <td>1605272.0</td>\n",
              "      <td>736192.0</td>\n",
              "    </tr>\n",
              "    <tr>\n",
              "      <th>1</th>\n",
              "      <td>2</td>\n",
              "      <td>Arlington</td>\n",
              "      <td>Virginia</td>\n",
              "      <td>62018.0</td>\n",
              "      <td>103208.0</td>\n",
              "      <td>139244.0</td>\n",
              "      <td>214861.0</td>\n",
              "      <td>94454.0</td>\n",
              "    </tr>\n",
              "    <tr>\n",
              "      <th>2</th>\n",
              "      <td>3</td>\n",
              "      <td>Falls Church</td>\n",
              "      <td>Virginia</td>\n",
              "      <td>59088.0</td>\n",
              "      <td>120000.0</td>\n",
              "      <td>152857.0</td>\n",
              "      <td>12731.0</td>\n",
              "      <td>5020.0</td>\n",
              "    </tr>\n",
              "  </tbody>\n",
              "</table>\n",
              "</div>"
            ],
            "text/plain": [
              "  pos        county     state  ...  medfam_inc        pop  households\n",
              "0   1      New York  New York  ...     84627.0  1605272.0    736192.0\n",
              "1   2     Arlington  Virginia  ...    139244.0   214861.0     94454.0\n",
              "2   3  Falls Church  Virginia  ...    152857.0    12731.0      5020.0\n",
              "\n",
              "[3 rows x 8 columns]"
            ]
          },
          "metadata": {
            "tags": []
          },
          "execution_count": 14
        }
      ]
    },
    {
      "cell_type": "code",
      "metadata": {
        "id": "tb6oCxFhFwGl"
      },
      "source": [
        "#need to clean the NY Times dataset. observing only areas within the US, not terretories\n",
        "df = df[df[\"state\"].str.contains(\"Puerto Rico\") == False]\n",
        "df = df[df[\"state\"].str.contains(\"Virgin Islands\") == False]\n",
        "df = df[df[\"state\"].str.contains(\"Guam\") == False]\n",
        "df = df[df[\"state\"].str.contains(\"Northern Mariana Islands\") == False]\n",
        "df = df[df[\"county\"].str.contains(\"Unknown\") == False]\n",
        "df = df.drop(columns = 'fips')"
      ],
      "execution_count": null,
      "outputs": []
    },
    {
      "cell_type": "code",
      "metadata": {
        "id": "3R00lzAIYrG9"
      },
      "source": [
        "#create a copy of the cleaned wikipedia df\n",
        "ols_tab = wiki_table.copy(deep=True)\n",
        "\n",
        "#create new column in the wiki df for ols\n",
        "ols_tab['exp_rate'] = [0] * len(ols_tab)"
      ],
      "execution_count": null,
      "outputs": []
    },
    {
      "cell_type": "code",
      "metadata": {
        "colab": {
          "base_uri": "https://localhost:8080/"
        },
        "id": "gWcmPPlrNcKe",
        "outputId": "0dfaaa2b-fc13-4bc1-925d-9410272805a7"
      },
      "source": [
        "#this is the format I will use to calculate r for each county and impute it into ols_tab\n",
        "df[df['state'] == list(df.state.unique())[0]].county.unique()"
      ],
      "execution_count": null,
      "outputs": [
        {
          "output_type": "execute_result",
          "data": {
            "text/plain": [
              "array(['Snohomish', 'Spokane', 'King', 'Walla Walla', 'Chelan', 'Clark',\n",
              "       'Jefferson', 'Pierce', 'Kittitas', 'Kitsap', 'Skagit', 'Whatcom',\n",
              "       'Island', 'Thurston', 'Columbia', 'Grays Harbor', 'Yakima',\n",
              "       'Grant', 'Klickitat', 'Lewis', 'Lincoln', 'Franklin', 'Mason',\n",
              "       'Benton', 'Clallam', 'Cowlitz', 'San Juan', 'Stevens', 'Whitman',\n",
              "       'Adams', 'Douglas', 'Ferry', 'Okanogan', 'Skamania',\n",
              "       'Pend Oreille', 'Asotin', 'Wahkiakum', 'Pacific', 'Garfield'],\n",
              "      dtype=object)"
            ]
          },
          "metadata": {
            "tags": []
          },
          "execution_count": 25
        }
      ]
    },
    {
      "cell_type": "code",
      "metadata": {
        "colab": {
          "base_uri": "https://localhost:8080/"
        },
        "id": "iudm4W4PTVQv",
        "outputId": "b0fa410c-3663-4a42-9b64-7524fce458b3"
      },
      "source": [
        "#this takes forever...\n",
        "states = list(df.state.unique())\n",
        "for i in states:\n",
        "  for j in df[df['state'] == i].county.unique():\n",
        "    temp_county = countyIso(j,i)\n",
        "    try:\n",
        "      temp_r = tm(expGrowthRate(temp_county, 'cases')[:77], 0.025)\n",
        "    except KeyError:\n",
        "      continue\n",
        "    else:\n",
        "          idx = ols_tab[(ols_tab['state'] == i) & (ols_tab['county'] == j)]\n",
        "          if idx.shape != (0,9):\n",
        "            idx = int(idx.index[0])\n",
        "            ols_tab.loc[idx, 'exp_rate'] = temp_r\n",
        "          else:\n",
        "            continue"
      ],
      "execution_count": null,
      "outputs": [
        {
          "output_type": "stream",
          "text": [
            "/usr/local/lib/python3.7/dist-packages/ipykernel_launcher.py:3: RuntimeWarning: divide by zero encountered in true_divide\n",
            "  This is separate from the ipykernel package so we can avoid doing imports until\n"
          ],
          "name": "stderr"
        }
      ]
    },
    {
      "cell_type": "code",
      "metadata": {
        "colab": {
          "base_uri": "https://localhost:8080/"
        },
        "id": "rVrLnslqIc0j",
        "outputId": "4e551fdf-7207-4ef1-c588-7cd88a971048"
      },
      "source": [
        "#about 3% of the dataset is unusable because it's either zeros or inf\n",
        "#that's fine\n",
        "ols_tab.exp_rate.value_counts()[0]/len(ols_tab)"
      ],
      "execution_count": null,
      "outputs": [
        {
          "output_type": "execute_result",
          "data": {
            "text/plain": [
              "0.028316894686605153"
            ]
          },
          "metadata": {
            "tags": []
          },
          "execution_count": 118
        }
      ]
    },
    {
      "cell_type": "code",
      "metadata": {
        "id": "NXbvQt7EmY4w"
      },
      "source": [
        "#keep the original as back up just in case something goes wrong.\n",
        "ols_tab1 = ols_tab.copy(deep=True)"
      ],
      "execution_count": null,
      "outputs": []
    },
    {
      "cell_type": "code",
      "metadata": {
        "id": "_uXnQDnTlYr_"
      },
      "source": [
        "#drop the zeros and infs from the dataframe\n",
        "indexforzeros = ols_tab1[ols_tab1['exp_rate'] == 0].index\n",
        "ols_tab1.drop(indexforzeros, inplace=True)\n",
        "indexforinfs = ols_tab1[ols_tab1['exp_rate'] == np.inf].index\n",
        "ols_tab1.drop(indexforinfs, inplace=True)"
      ],
      "execution_count": null,
      "outputs": []
    },
    {
      "cell_type": "code",
      "metadata": {
        "colab": {
          "base_uri": "https://localhost:8080/",
          "height": 204
        },
        "id": "BEFr9GBrnqSP",
        "outputId": "73392827-ac01-4024-f536-7e8c517f9d71"
      },
      "source": [
        "ols_tab1.head(5)"
      ],
      "execution_count": null,
      "outputs": [
        {
          "output_type": "execute_result",
          "data": {
            "text/html": [
              "<div>\n",
              "<style scoped>\n",
              "    .dataframe tbody tr th:only-of-type {\n",
              "        vertical-align: middle;\n",
              "    }\n",
              "\n",
              "    .dataframe tbody tr th {\n",
              "        vertical-align: top;\n",
              "    }\n",
              "\n",
              "    .dataframe thead th {\n",
              "        text-align: right;\n",
              "    }\n",
              "</style>\n",
              "<table border=\"1\" class=\"dataframe\">\n",
              "  <thead>\n",
              "    <tr style=\"text-align: right;\">\n",
              "      <th></th>\n",
              "      <th>pos</th>\n",
              "      <th>county</th>\n",
              "      <th>state</th>\n",
              "      <th>pc_income</th>\n",
              "      <th>medhouse_inc</th>\n",
              "      <th>medfam_inc</th>\n",
              "      <th>pop</th>\n",
              "      <th>households</th>\n",
              "      <th>exp_rate</th>\n",
              "    </tr>\n",
              "  </thead>\n",
              "  <tbody>\n",
              "    <tr>\n",
              "      <th>1</th>\n",
              "      <td>2</td>\n",
              "      <td>Arlington</td>\n",
              "      <td>Virginia</td>\n",
              "      <td>62018.0</td>\n",
              "      <td>103208.0</td>\n",
              "      <td>139244.0</td>\n",
              "      <td>214861.0</td>\n",
              "      <td>94454.0</td>\n",
              "      <td>0.067843</td>\n",
              "    </tr>\n",
              "    <tr>\n",
              "      <th>3</th>\n",
              "      <td>4</td>\n",
              "      <td>Marin</td>\n",
              "      <td>California</td>\n",
              "      <td>56791.0</td>\n",
              "      <td>90839.0</td>\n",
              "      <td>117357.0</td>\n",
              "      <td>254643.0</td>\n",
              "      <td>102912.0</td>\n",
              "      <td>0.087517</td>\n",
              "    </tr>\n",
              "    <tr>\n",
              "      <th>5</th>\n",
              "      <td>6</td>\n",
              "      <td>Pitkin</td>\n",
              "      <td>Colorado</td>\n",
              "      <td>51814.0</td>\n",
              "      <td>72745.0</td>\n",
              "      <td>93981.0</td>\n",
              "      <td>17173.0</td>\n",
              "      <td>7507.0</td>\n",
              "      <td>0.022957</td>\n",
              "    </tr>\n",
              "    <tr>\n",
              "      <th>6</th>\n",
              "      <td>7</td>\n",
              "      <td>Los Alamos</td>\n",
              "      <td>New Mexico</td>\n",
              "      <td>51044.0</td>\n",
              "      <td>106686.0</td>\n",
              "      <td>124979.0</td>\n",
              "      <td>17979.0</td>\n",
              "      <td>7590.0</td>\n",
              "      <td>0.032179</td>\n",
              "    </tr>\n",
              "    <tr>\n",
              "      <th>7</th>\n",
              "      <td>8</td>\n",
              "      <td>Fairfax</td>\n",
              "      <td>Virginia</td>\n",
              "      <td>50532.0</td>\n",
              "      <td>110292.0</td>\n",
              "      <td>128596.0</td>\n",
              "      <td>1101071.0</td>\n",
              "      <td>389908.0</td>\n",
              "      <td>0.100812</td>\n",
              "    </tr>\n",
              "  </tbody>\n",
              "</table>\n",
              "</div>"
            ],
            "text/plain": [
              "  pos      county       state  ...        pop  households  exp_rate\n",
              "1   2   Arlington    Virginia  ...   214861.0     94454.0  0.067843\n",
              "3   4       Marin  California  ...   254643.0    102912.0  0.087517\n",
              "5   6      Pitkin    Colorado  ...    17173.0      7507.0  0.022957\n",
              "6   7  Los Alamos  New Mexico  ...    17979.0      7590.0  0.032179\n",
              "7   8     Fairfax    Virginia  ...  1101071.0    389908.0  0.100812\n",
              "\n",
              "[5 rows x 9 columns]"
            ]
          },
          "metadata": {
            "tags": []
          },
          "execution_count": 138
        }
      ]
    },
    {
      "cell_type": "code",
      "metadata": {
        "id": "tx2jmnpkoGz_"
      },
      "source": [
        "#download the dataset to utilize in R for regressions and stuff.\n",
        "ols_tab1.to_csv(r'/content/olsdf.csv', index = False)"
      ],
      "execution_count": null,
      "outputs": []
    },
    {
      "cell_type": "markdown",
      "metadata": {
        "id": "1oQn2PaDtlSK"
      },
      "source": [
        "https://www.businessinsider.com/regions-of-united-states-2018-5#the-us-census-bureau-divides-the-united-states-into-four-regions-theres-the-northeast--1"
      ]
    },
    {
      "cell_type": "code",
      "metadata": {
        "id": "C8wLZ9GAssOD"
      },
      "source": [
        "#categorize states by location...\n",
        "#there are four regions according to the US Census Bureau\n",
        "northeast_states = ['Maine', 'New Hampshire', 'Vermont',\n",
        "             'Massachusetts', 'Rhode Island', 'Connecticut',\n",
        "             'New York', 'New Jersey', 'Pennsylvania']\n",
        "\n",
        "midwest_states = ['Ohio', 'Michigan', 'Indiana',\n",
        "                  'Wisconsin', 'Illinois', 'Minnesota',\n",
        "                  'Iowa', 'Missouri', 'North Dakota', 'South Dakota',\n",
        "                  'Nebraska', 'Kansas']\n",
        "\n",
        "west_states = ['Montana', 'Idaho', 'Wyoming',\n",
        "               'Colorado', 'New Mexico', 'Arizona',\n",
        "               'Utah', 'Nevada', 'California',\n",
        "               'Oregon', 'Washington', 'Alaska',\n",
        "               'Hawaii']\n",
        "\n",
        "south_states = ['Delaware', 'Maryland', 'Virginia',\n",
        "                'West Virginia', 'Kentucky', 'North Carolina',\n",
        "                'South Carolina', 'Tennessee', 'Georgia', 'Florida',\n",
        "                'Alabama', 'Mississippi', 'Arkansas', 'Louisiana',\n",
        "                'Texas', 'Oklahoma']\n",
        "\n",
        "#dummy cols per region\n",
        "ols_tab1['NE_dum'] = [0] * len(ols_tab1)\n",
        "ols_tab1['MW_dum'] = [0] * len(ols_tab1)\n",
        "ols_tab1['W_dum'] = [0] * len(ols_tab1)\n",
        "ols_tab1['S_dum'] = [0] * len(ols_tab1)\n",
        "\n",
        "#reset index vals for tab\n",
        "ols_tab1.pos = range(len(ols_tab1))\n",
        "ols_tab1.index = ols_tab1.pos\n",
        "ols_tab1.index"
      ],
      "execution_count": null,
      "outputs": []
    },
    {
      "cell_type": "code",
      "metadata": {
        "id": "dLYbbscyvG2P"
      },
      "source": [
        "#creation of dummies per region\n",
        "for i,v in enumerate(ols_tab1.state):\n",
        "  if v in northeast_states:\n",
        "    ols_tab1.loc[i, 'NE_dum'] = 1\n",
        "    ols_tab1.loc[i, 'MW_dum'] = 0\n",
        "    ols_tab1.loc[i, 'W_dum'] = 0\n",
        "  elif v in midwest_states:\n",
        "    ols_tab1.loc[i, 'MW_dum'] = 1\n",
        "    ols_tab1.loc[i, 'NE_dum'] = 0\n",
        "    ols_tab1.loc[i, 'W_dum'] = 0\n",
        "  elif v in west_states:\n",
        "    ols_tab1.loc[i, 'W_dum'] = 1\n",
        "    ols_tab1.loc[i, 'NE_dum'] = 0\n",
        "    ols_tab1.loc[i, 'MW_dum'] = 0\n",
        "  elif v in south_states:\n",
        "    ols_tab1.loc[i, 'S_dum'] = 1\n",
        "    ols_tab1.loc[i, 'NE_dum'] = 0\n",
        "    ols_tab1.loc[i, 'MW_dum'] = 0\n",
        "    ols_tab1.loc[i, 'W_dum'] = 0"
      ],
      "execution_count": null,
      "outputs": []
    },
    {
      "cell_type": "code",
      "metadata": {
        "id": "cYYiKYSgwv5u"
      },
      "source": [
        "#download of df with dummies\n",
        "ols_tab1.to_csv(r'/content/olsdf_wdum.csv', index = False)"
      ],
      "execution_count": null,
      "outputs": []
    },
    {
      "cell_type": "code",
      "metadata": {
        "colab": {
          "base_uri": "https://localhost:8080/",
          "height": 366
        },
        "id": "ykrLcIbvfyHg",
        "outputId": "92bb33dd-04b0-4ede-96d8-e6f0bbb8906d"
      },
      "source": [
        "!pip install git+git://github.com/geopandas/geopandas.git &> /dev/null #the stuff after the & suppresses the code before it.\n",
        "\n",
        "#need to clean up this dataset\n",
        "import geopandas as gpd\n",
        "geo = gpd.read_file('https://opendata.arcgis.com/datasets/ace8fa8bea514d07a3139e4657b3cd9c_0.geojson')\n",
        "geo[:3]"
      ],
      "execution_count": null,
      "outputs": [
        {
          "output_type": "execute_result",
          "data": {
            "text/html": [
              "<div>\n",
              "<style scoped>\n",
              "    .dataframe tbody tr th:only-of-type {\n",
              "        vertical-align: middle;\n",
              "    }\n",
              "\n",
              "    .dataframe tbody tr th {\n",
              "        vertical-align: top;\n",
              "    }\n",
              "\n",
              "    .dataframe thead th {\n",
              "        text-align: right;\n",
              "    }\n",
              "</style>\n",
              "<table border=\"1\" class=\"dataframe\">\n",
              "  <thead>\n",
              "    <tr style=\"text-align: right;\">\n",
              "      <th></th>\n",
              "      <th>OBJECTID</th>\n",
              "      <th>GEO_ID</th>\n",
              "      <th>GEO_NAME</th>\n",
              "      <th>GEO_PARENT_NAME</th>\n",
              "      <th>FIPS_CODE</th>\n",
              "      <th>B02001_002E</th>\n",
              "      <th>B02001_002M</th>\n",
              "      <th>B02001_003E</th>\n",
              "      <th>B02001_003M</th>\n",
              "      <th>B02001_004E</th>\n",
              "      <th>B02001_004M</th>\n",
              "      <th>B02001_005E</th>\n",
              "      <th>B02001_005M</th>\n",
              "      <th>B02001_006E</th>\n",
              "      <th>B02001_006M</th>\n",
              "      <th>B02001_007E</th>\n",
              "      <th>B02001_007M</th>\n",
              "      <th>B02001_008E</th>\n",
              "      <th>B02001_008M</th>\n",
              "      <th>B03001_002E</th>\n",
              "      <th>B03001_002M</th>\n",
              "      <th>B03001_003E</th>\n",
              "      <th>B03001_003M</th>\n",
              "      <th>geometry</th>\n",
              "    </tr>\n",
              "  </thead>\n",
              "  <tbody>\n",
              "    <tr>\n",
              "      <th>0</th>\n",
              "      <td>1</td>\n",
              "      <td>0500000US01001</td>\n",
              "      <td>Autauga County</td>\n",
              "      <td>Alabama</td>\n",
              "      <td>01001</td>\n",
              "      <td>42437</td>\n",
              "      <td>337</td>\n",
              "      <td>10565</td>\n",
              "      <td>230</td>\n",
              "      <td>159</td>\n",
              "      <td>68</td>\n",
              "      <td>568</td>\n",
              "      <td>166</td>\n",
              "      <td>32</td>\n",
              "      <td>36</td>\n",
              "      <td>409</td>\n",
              "      <td>348</td>\n",
              "      <td>1030</td>\n",
              "      <td>250</td>\n",
              "      <td>53672</td>\n",
              "      <td>NaN</td>\n",
              "      <td>1528</td>\n",
              "      <td>NaN</td>\n",
              "      <td>POLYGON ((-86.41312 32.70739, -86.41305 32.690...</td>\n",
              "    </tr>\n",
              "    <tr>\n",
              "      <th>1</th>\n",
              "      <td>2</td>\n",
              "      <td>0500000US01003</td>\n",
              "      <td>Baldwin County</td>\n",
              "      <td>Alabama</td>\n",
              "      <td>01003</td>\n",
              "      <td>179526</td>\n",
              "      <td>747</td>\n",
              "      <td>19764</td>\n",
              "      <td>377</td>\n",
              "      <td>1522</td>\n",
              "      <td>337</td>\n",
              "      <td>1680</td>\n",
              "      <td>360</td>\n",
              "      <td>9</td>\n",
              "      <td>13</td>\n",
              "      <td>2034</td>\n",
              "      <td>783</td>\n",
              "      <td>3572</td>\n",
              "      <td>671</td>\n",
              "      <td>198754</td>\n",
              "      <td>NaN</td>\n",
              "      <td>9353</td>\n",
              "      <td>NaN</td>\n",
              "      <td>POLYGON ((-87.76516 31.29735, -87.76361 31.297...</td>\n",
              "    </tr>\n",
              "    <tr>\n",
              "      <th>2</th>\n",
              "      <td>3</td>\n",
              "      <td>0500000US01005</td>\n",
              "      <td>Barbour County</td>\n",
              "      <td>Alabama</td>\n",
              "      <td>01005</td>\n",
              "      <td>12216</td>\n",
              "      <td>179</td>\n",
              "      <td>12266</td>\n",
              "      <td>196</td>\n",
              "      <td>72</td>\n",
              "      <td>43</td>\n",
              "      <td>96</td>\n",
              "      <td>40</td>\n",
              "      <td>1</td>\n",
              "      <td>3</td>\n",
              "      <td>778</td>\n",
              "      <td>192</td>\n",
              "      <td>353</td>\n",
              "      <td>161</td>\n",
              "      <td>24676</td>\n",
              "      <td>NaN</td>\n",
              "      <td>1106</td>\n",
              "      <td>NaN</td>\n",
              "      <td>POLYGON ((-85.05603 32.06306, -85.05593 32.063...</td>\n",
              "    </tr>\n",
              "  </tbody>\n",
              "</table>\n",
              "</div>"
            ],
            "text/plain": [
              "   OBJECTID  ...                                           geometry\n",
              "0         1  ...  POLYGON ((-86.41312 32.70739, -86.41305 32.690...\n",
              "1         2  ...  POLYGON ((-87.76516 31.29735, -87.76361 31.297...\n",
              "2         3  ...  POLYGON ((-85.05603 32.06306, -85.05593 32.063...\n",
              "\n",
              "[3 rows x 24 columns]"
            ]
          },
          "metadata": {
            "tags": []
          },
          "execution_count": 46
        }
      ]
    },
    {
      "cell_type": "code",
      "metadata": {
        "colab": {
          "base_uri": "https://localhost:8080/"
        },
        "id": "vaCMnLBDigNP",
        "outputId": "9d2dcbdd-618b-45fb-d34f-08a76f4b460e"
      },
      "source": [
        "geo.shape"
      ],
      "execution_count": null,
      "outputs": [
        {
          "output_type": "execute_result",
          "data": {
            "text/plain": [
              "(3220, 24)"
            ]
          },
          "metadata": {
            "tags": []
          },
          "execution_count": 47
        }
      ]
    }
  ]
}